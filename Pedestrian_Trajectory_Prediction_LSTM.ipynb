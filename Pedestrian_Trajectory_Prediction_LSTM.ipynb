{
  "cells": [
    {
      "cell_type": "markdown",
      "metadata": {
        "id": "view-in-github",
        "colab_type": "text"
      },
      "source": [
        "<a href=\"https://colab.research.google.com/github/jiaminho/Pedestrian-Trajectory-Prediction-LSTM/blob/main/Pedestrian_Trajectory_Prediction_LSTM.ipynb\" target=\"_parent\"><img src=\"https://colab.research.google.com/assets/colab-badge.svg\" alt=\"Open In Colab\"/></a>"
      ]
    },
    {
      "cell_type": "markdown",
      "metadata": {
        "id": "TZ6pU2HvcR4m"
      },
      "source": [
        "# CITS5017 Deep Learning Project 1\n",
        "\n",
        "Jia Min Ho (23337561)\n",
        "\n",
        "https://github.com/jiaminho/Pedestrian-Trajectory-Prediction-LSTM"
      ]
    },
    {
      "cell_type": "markdown",
      "source": [
        "TRYING TO change prediction\n",
        "- CHANGE COMPARISON\n",
        "- Add FDE plot!\n",
        "- Only use validation loss"
      ],
      "metadata": {
        "id": "HwACynwc4dz_"
      }
    },
    {
      "cell_type": "markdown",
      "metadata": {
        "id": "R9m5IRLD5Ngl"
      },
      "source": [
        "# Questions:\n",
        "- loss ADE, metrics MSE??\n",
        "- activation function, dropout, etc. required?\n",
        "- prediction right or wrong? why my ade vs time step is smooth?\n",
        "- how should the VAE look like? do we need to show the original trajectories?\n",
        "- can i use both loss and val loss?\n",
        "\n",
        "\n",
        "\n",
        "# To do list:\n",
        "- Rename to Ho_JiaMin-proj2.ipynb\n",
        "- Add proper section number and headings\n",
        "- Make model 1 and 2 modular so can accept any number of input and output for the comparison part\n",
        "- Fix loss vs timestep curve (it should not be smooth!!)\n",
        "- Make the comparison trajectories plots smaller and stick together to easier to see. Actually only need to plot 6/14 because questions didn't ask to plot all.\n",
        "\n",
        "\n",
        "done:\n",
        "- Improve second lstm model\n",
        "- Print only every 10 epochs\n"
      ]
    },
    {
      "cell_type": "markdown",
      "metadata": {
        "id": "5JcmvCpYfOjm"
      },
      "source": [
        "**Import libraries**"
      ]
    },
    {
      "cell_type": "code",
      "execution_count": 1,
      "metadata": {
        "id": "x4_dssYSfOKB"
      },
      "outputs": [],
      "source": [
        "import numpy as np\n",
        "import pandas as pd\n",
        "import matplotlib.pyplot as plt\n",
        "import tensorflow as tf\n",
        "from tensorflow.keras.models import Sequential\n",
        "from tensorflow.keras.layers import LSTM, Dense, Input, Bidirectional, Concatenate"
      ]
    },
    {
      "cell_type": "markdown",
      "metadata": {
        "id": "ZTy9f5_QlVQK"
      },
      "source": [
        "**Load data file**"
      ]
    },
    {
      "cell_type": "code",
      "execution_count": 2,
      "metadata": {
        "id": "pE2aK7RkbtH9"
      },
      "outputs": [],
      "source": [
        "def load_data(filename):\n",
        "  with open(filename, \"rb\") as f:\n",
        "    train = np.load(f)\n",
        "    val = np.load(f)\n",
        "  return train, val\n",
        "\n",
        "train_set, val_set = load_data(\"zara1.npy\")"
      ]
    },
    {
      "cell_type": "markdown",
      "source": [
        "Some simple EDA:"
      ],
      "metadata": {
        "id": "GlqkIFFHGNb6"
      }
    },
    {
      "cell_type": "code",
      "execution_count": 3,
      "metadata": {
        "colab": {
          "base_uri": "https://localhost:8080/"
        },
        "id": "fMKx7H7kfMxC",
        "outputId": "9c11bb2b-828d-4552-e842-184edea4fe80"
      },
      "outputs": [
        {
          "output_type": "execute_result",
          "data": {
            "text/plain": [
              "(26507, 20, 2)"
            ]
          },
          "metadata": {},
          "execution_count": 3
        }
      ],
      "source": [
        "train_set.shape"
      ]
    },
    {
      "cell_type": "markdown",
      "metadata": {
        "id": "Pir1e0neh3kt"
      },
      "source": [
        "train set is a 3D tensor of the shape (26507, 20, 2)"
      ]
    },
    {
      "cell_type": "code",
      "execution_count": 4,
      "metadata": {
        "colab": {
          "base_uri": "https://localhost:8080/"
        },
        "id": "jGqULtvzfYWk",
        "outputId": "b2e22f9c-cf78-4c7e-e074-2adbe012d548"
      },
      "outputs": [
        {
          "output_type": "execute_result",
          "data": {
            "text/plain": [
              "(2315, 20, 2)"
            ]
          },
          "metadata": {},
          "execution_count": 4
        }
      ],
      "source": [
        "val_set.shape"
      ]
    },
    {
      "cell_type": "markdown",
      "metadata": {
        "id": "q2JGn_8rh668"
      },
      "source": [
        "val set is also a 3D tensor of the shape (2315, 20, 2)"
      ]
    },
    {
      "cell_type": "code",
      "execution_count": 5,
      "metadata": {
        "colab": {
          "base_uri": "https://localhost:8080/"
        },
        "id": "z3qv1liifdGi",
        "outputId": "e52395e6-7140-4586-d498-50491bf3552b"
      },
      "outputs": [
        {
          "output_type": "execute_result",
          "data": {
            "text/plain": [
              "array([[[-0.31367778,  0.06750966],\n",
              "        [-0.29939284,  0.04183492],\n",
              "        [-0.28788528,  0.02332389],\n",
              "        [-0.27795722,  0.00511593],\n",
              "        [-0.27771266, -0.01810555],\n",
              "        [-0.27427557, -0.0401845 ],\n",
              "        [-0.26811742, -0.06929811],\n",
              "        [-0.26960516, -0.09556106],\n",
              "        [-0.2664506 , -0.12253553],\n",
              "        [-0.25403196, -0.15084949],\n",
              "        [-0.2478035 , -0.17821016],\n",
              "        [-0.24339741, -0.21024651],\n",
              "        [-0.23582799, -0.24103601],\n",
              "        [-0.22989552, -0.27321961],\n",
              "        [-0.22685222, -0.30169945],\n",
              "        [-0.21930551, -0.33237906],\n",
              "        [-0.21320741, -0.36119077],\n",
              "        [-0.21341177, -0.39253789],\n",
              "        [-0.20912005, -0.42605787],\n",
              "        [-0.20061589, -0.4666159 ]]])"
            ]
          },
          "metadata": {},
          "execution_count": 5
        }
      ],
      "source": [
        "train_set[:1]"
      ]
    },
    {
      "cell_type": "markdown",
      "source": [
        "Each trajectory in each frame is a 2D point (x,y)."
      ],
      "metadata": {
        "id": "1VgpazCg2ZO0"
      }
    },
    {
      "cell_type": "code",
      "source": [
        "# Set random seeds for reproducibility\n",
        "random_seed = 42\n",
        "np.random.seed(random_seed)\n",
        "tf.random.set_seed(random_seed)"
      ],
      "metadata": {
        "id": "cfoP20oL2fGS"
      },
      "execution_count": 6,
      "outputs": []
    },
    {
      "cell_type": "markdown",
      "metadata": {
        "id": "Q9fgVWCJlYTG"
      },
      "source": [
        "## 1. Split trajectories into observed and future\n",
        "\n",
        "Split the trajectories into two parts: the observed part should contain the trajectory coordinates for\n",
        "the first 12 frames; the future part should contain the trajectory coordinates for the remaining 8\n",
        "frames."
      ]
    },
    {
      "cell_type": "code",
      "source": [
        "def split_trajectories(data, observed_len, future_len):\n",
        "    # Variable length for observed and future parts\n",
        "    observed = data[:, :observed_len, :]\n",
        "    future = data[:, observed_len:observed_len + future_len, :]\n",
        "    return observed, future\n",
        "\n",
        "train_observed, train_future = split_trajectories(train_set, 12, 8)\n",
        "val_observed, val_future = split_trajectories(val_set, 12, 8)"
      ],
      "metadata": {
        "id": "YUMiMSDoyxgk"
      },
      "execution_count": 7,
      "outputs": []
    },
    {
      "cell_type": "markdown",
      "metadata": {
        "id": "acYbviYllhTc"
      },
      "source": [
        "## 2. Plot Sampled Trajectories\n",
        "\n",
        "Write a small function that takes in appropriate arguments so that it would randomly sample 30\n",
        "trajectories and display them in 3 subplots (10 trajectories per subplot, to avoid crowdedness). The\n",
        "observed part and the future part of each trajectory should be shown in different colours.\n",
        "Call the function twice – for the training set then the validation set."
      ]
    },
    {
      "cell_type": "code",
      "source": [
        "def display_sampled_trajectories(observed, true_future, predicted_future=None, title=\"Sampled Trajectories\", seed=42, connect=True):\n",
        "    np.random.seed(seed)  # For reproducibility\n",
        "    indices = np.random.choice(observed.shape[0], 30, replace=False)\n",
        "    fig, axs = plt.subplots(1, 3, figsize=(12, 4))\n",
        "\n",
        "    for i, ax in enumerate(axs):\n",
        "        for j in range(10):\n",
        "            index = indices[i*10 + j]\n",
        "            ax.plot(observed[index, :, 0], observed[index, :, 1], color='blue', marker='.', label='Observed' if j==0 else \"\")\n",
        "            ax.plot(true_future[index, :, 0], true_future[index, :, 1], color='red', marker='.', label='True Future' if j==0 else \"\")\n",
        "\n",
        "            # Connect the end of observed to the start of true_future, if connect is True\n",
        "            if connect:\n",
        "                ax.plot([observed[index, -1, 0], true_future[index, 0, 0]],\n",
        "                        [observed[index, -1, 1], true_future[index, 0, 1]], color='red')\n",
        "\n",
        "            # Check if predicted_future is provided\n",
        "            if predicted_future is not None:\n",
        "                ax.plot(predicted_future[index, :, 0], predicted_future[index, :, 1], color='green', marker='.', label='Predicted Future' if j==0 else \"\")\n",
        "\n",
        "                # Connect the end of observed to the start of predicted_future, if connect is True\n",
        "                if connect:\n",
        "                    ax.plot([observed[index, -1, 0], predicted_future[index, 0, 0]],\n",
        "                            [observed[index, -1, 1], predicted_future[index, 0, 1]], color='green')\n",
        "\n",
        "            ax.legend(loc='best')\n",
        "\n",
        "        ax.axis('equal')\n",
        "        ax.grid(True)\n",
        "\n",
        "    plt.suptitle(title)\n",
        "    plt.tight_layout()\n",
        "    plt.show()"
      ],
      "metadata": {
        "id": "a1i4SVvZPBqB"
      },
      "execution_count": 8,
      "outputs": []
    },
    {
      "cell_type": "code",
      "execution_count": 9,
      "metadata": {
        "colab": {
          "base_uri": "https://localhost:8080/",
          "height": 809
        },
        "id": "VVn5R2na_22Y",
        "outputId": "c3a66ef3-e7d3-4069-b3cd-331cf48ca177"
      },
      "outputs": [
        {
          "output_type": "display_data",
          "data": {
            "text/plain": [
              "<Figure size 1200x400 with 3 Axes>"
            ],
            "image/png": "[encoded data removed]"
          },
          "metadata": {}
        },
        {
          "output_type": "display_data",
          "data": {
            "text/plain": [
              "<Figure size 1200x400 with 3 Axes>"
            ],
            "image/png": "[encoded data removed]"
          },
          "metadata": {}
        }
      ],
      "source": [
        "# Call the function for training set\n",
        "display_sampled_trajectories(train_observed, train_future, title=\"Training Set\")\n",
        "\n",
        "# Call the function for validation set\n",
        "display_sampled_trajectories(val_observed, val_future, title=\"Validation Set\")"
      ]
    },
    {
      "cell_type": "markdown",
      "metadata": {
        "id": "KetxDmripMRd"
      },
      "source": [
        "## 3. First LSTM Model\n",
        "\n",
        "(iii) Implementation of the first LSTM model (30% (the mark includes parts (i) and (ii) above))\n",
        "- Design an LSTM that has 1 to 2 layers and an appropriate number of neurons per layer.\n",
        "This LSTM should be trained to take in the observed part of the trajectories and predict the\n",
        "pedestrians’ 2D coordinates for just the first frame in the future part (i.e., predict one timestep\n",
        "ahead). Show the architecture of your LSTM network.\n",
        "- You will need to write a function using the formula given in Equation (1) and use it as the\n",
        "loss function for compiling and training your network, e.g., def ADE(y true, y pred).\n",
        "- Train your network for 100 epochs but use an early stopping callback and the validation set\n",
        "to prevent over-training.\n",
        "- Show the learning curves plot.\n",
        "- As this LSTM network can predict only the pedestrians’ coordinates for one timestep ahead,\n",
        "use a for loop to recursively predict the remaining 7 frames in the future part of the trajectories.\n",
        "- Report the ADE and FDE of this network.\n",
        "- Illustrate 30 randomly sampled trajectories in some subplots. The observed part, the ground\n",
        "truth future part and the predicted future part of these trajectories should be shown in different\n",
        "colours.\n",
        "If you have the function for part (ii) above designed well, you should be able to reuse the\n",
        "function here.\n",
        "\n",
        "\n",
        "Single Step LSTM: The first LSTM model predicts just one step into the future. This is a relatively simpler architecture where the LSTM is trained to map a sequence of observed trajectories to the next immediate trajectory point. After training, to predict multiple future steps, we use a for-loop to repeatedly input the predictions back into the LSTM."
      ]
    },
    {
      "cell_type": "markdown",
      "metadata": {
        "id": "I7Knzj_IqNz2"
      },
      "source": [
        "**ADE** and **FDE** loss function:"
      ]
    },
    {
      "cell_type": "code",
      "execution_count": 10,
      "metadata": {
        "id": "kNtz4ij8qQAT"
      },
      "outputs": [],
      "source": [
        "def ADE(y_true, y_pred):\n",
        "    return tf.reduce_mean(tf.sqrt(tf.reduce_sum(tf.square(y_true - y_pred), axis=-1)))\n",
        "\n",
        "def FDE(y_true_last_step, y_pred_last_step):\n",
        "    return tf.reduce_mean(tf.sqrt(tf.reduce_sum(tf.square(y_true_last_step - y_pred_last_step), axis=-1)))"
      ]
    },
    {
      "cell_type": "markdown",
      "source": [
        "Callback to print every 10th epoch"
      ],
      "metadata": {
        "id": "fYwDwn42kvMt"
      }
    },
    {
      "cell_type": "code",
      "source": [
        "# Print every 10th epoch\n",
        "class PrintEvery10Epochs(tf.keras.callbacks.Callback):\n",
        "    def on_epoch_end(self, epoch, logs=None):\n",
        "        if epoch % 10 == 0:\n",
        "            print(f\"Epoch {epoch}: val_loss = {logs['val_loss']}, loss = {logs['loss']}\")"
      ],
      "metadata": {
        "id": "bcgqjTG5kuke"
      },
      "execution_count": 11,
      "outputs": []
    },
    {
      "cell_type": "markdown",
      "metadata": {
        "id": "RCaSinPfqD0n"
      },
      "source": [
        "**First LSTM model**"
      ]
    },
    {
      "cell_type": "code",
      "source": [
        "import tensorflow as tf\n",
        "from tensorflow.keras.models import Sequential\n",
        "from tensorflow.keras.layers import LSTM, Dense\n",
        "\n",
        "# Design the LSTM\n",
        "simple_model = Sequential([\n",
        "    LSTM(32, return_sequences=True, input_shape=(None, 2)),\n",
        "    LSTM(16),\n",
        "    Dense(2)  # To predict the x,y coordinates for the next timestep\n",
        "])\n",
        "\n",
        "# Compile the model\n",
        "simple_model.compile(optimizer='adam', loss=ADE)\n",
        "\n",
        "# Early stopping callback\n",
        "early_stop_val_loss = tf.keras.callbacks.EarlyStopping(monitor='val_loss', patience=10)\n",
        "\n",
        "# Add custom callback to the list\n",
        "callbacks_list=[PrintEvery10Epochs(), early_stop_val_loss]\n",
        "\n",
        "# Train the model\n",
        "history_simple_model = simple_model.fit(train_observed, train_future[:, 0, :],\n",
        "                                        validation_data=(val_observed, val_future[:, 0, :]),\n",
        "                                        epochs=100, callbacks=callbacks_list, batch_size=32, verbose=0)"
      ],
      "metadata": {
        "colab": {
          "base_uri": "https://localhost:8080/"
        },
        "id": "X5v1PNNNm1IO",
        "outputId": "821bcc0f-099c-4f68-bf6b-1dc9dab6545a"
      },
      "execution_count": null,
      "outputs": [
        {
          "output_type": "stream",
          "name": "stdout",
          "text": [
            "Epoch 0: val_loss = 0.016587989404797554, loss = 0.06885714083909988\n"
          ]
        }
      ]
    },
    {
      "cell_type": "code",
      "execution_count": null,
      "metadata": {
        "id": "8PCNTmx8hoz_"
      },
      "outputs": [],
      "source": [
        "simple_model.summary()  # Show the architecture"
      ]
    },
    {
      "cell_type": "markdown",
      "metadata": {
        "id": "xFbrp6b6qdek"
      },
      "source": [
        "Display the Learning Curves"
      ]
    },
    {
      "cell_type": "code",
      "execution_count": null,
      "metadata": {
        "id": "qTPYwCagvkgI"
      },
      "outputs": [],
      "source": [
        "def plot_learning_curves(history):\n",
        "    plt.figure(figsize=(12, 4))\n",
        "\n",
        "    # Plotting loss curves\n",
        "    plt.plot(history.history['loss'], label='Training ADE')\n",
        "    plt.plot(history.history['val_loss'], label='Validation ADE')\n",
        "\n",
        "    # Adding gridlines\n",
        "    plt.grid(True, which='both', linestyle='--', linewidth=0.5)\n",
        "\n",
        "    plt.legend()\n",
        "    plt.xlabel('Epochs')\n",
        "    plt.ylabel('Average Displacement Error (ADE)')\n",
        "    plt.title('Learning Curve')\n",
        "\n",
        "    plt.show()\n",
        "\n",
        "plot_learning_curves(history_simple_model)"
      ]
    },
    {
      "cell_type": "markdown",
      "metadata": {
        "id": "mwY4XJYFqjee"
      },
      "source": [
        "Predict Remaining 7 Frames and plot ADE vs Time Step"
      ]
    },
    {
      "cell_type": "markdown",
      "source": [
        "# Doing the prediction here:"
      ],
      "metadata": {
        "id": "zG5t0dbK5lta"
      }
    },
    {
      "cell_type": "code",
      "source": [
        "def predict_future_trajectory(observed, model, future_len):\n",
        "    predicted_future = np.zeros((observed.shape[0], future_len, 2))  # Initialize predicted_future array\n",
        "    current_input = observed  # Initialize the input with the observed data\n",
        "\n",
        "    for i in range(future_len):\n",
        "        next_step = model.predict(current_input, verbose=0)  # Model prediction for the next step\n",
        "\n",
        "        predicted_future[:, i, :] = next_step  # Store the prediction\n",
        "\n",
        "        # Prepare the input for the next prediction\n",
        "        current_input = np.concatenate([current_input[:, 1:, :], next_step[:, np.newaxis, :]], axis=1)\n",
        "\n",
        "    return predicted_future\n",
        "\n",
        "# Get the predicted future trajectory for the validation set\n",
        "predicted_val_future = predict_future_trajectory(val_observed, simple_model, 8)\n",
        "predicted_val_future"
      ],
      "metadata": {
        "id": "xIFteG7L4zut"
      },
      "execution_count": null,
      "outputs": []
    },
    {
      "cell_type": "markdown",
      "source": [
        "# calculate ade outside"
      ],
      "metadata": {
        "id": "UE7KmCHi0R9Q"
      }
    },
    {
      "cell_type": "code",
      "source": [
        "# Initialize ADE arrays\n",
        "ade_per_step = np.zeros(8)\n",
        "fde_per_step = np.zeros(8)\n",
        "num_samples = val_observed.shape[0]\n",
        "\n",
        "for i in range(1, 9):  # For time steps 1 to 8\n",
        "    ade_this_step = ADE(val_future[:, :i, :], predicted_val_future[:, :i, :])\n",
        "    fde_this_step = FDE(val_future[:, i-1, :], predicted_val_future[:, i-1, :])\n",
        "    ade_per_step[i-1] = ade_this_step.numpy()  # Convert tensor to numpy\n",
        "    fde_per_step[i-1] = fde_this_step.numpy()\n",
        "\n",
        "# Plot the results\n",
        "plt.plot(np.arange(1, 9), ade_per_step, marker='o', linestyle='-', label='LSTM 1 (ADE)')\n",
        "plt.plot(np.arange(1, 9), fde_per_step, marker='o', linestyle='-', label='LSTM 1 (FDE)')\n",
        "plt.xlabel('Time Steps')\n",
        "plt.ylabel('Error')\n",
        "plt.title('Error over Time Steps')\n",
        "plt.legend()\n",
        "plt.show()\n"
      ],
      "metadata": {
        "id": "PZMitt3l5kuX"
      },
      "execution_count": null,
      "outputs": []
    },
    {
      "cell_type": "markdown",
      "metadata": {
        "id": "sxGQ4G31qngt"
      },
      "source": [
        "Calculate average displacement error (ADE) and final displacement error (FDE)\n",
        "\n"
      ]
    },
    {
      "cell_type": "code",
      "execution_count": null,
      "metadata": {
        "id": "OMh1UFQ4tcxu"
      },
      "outputs": [],
      "source": [
        "# ADE & FDE using the predictions generated by the simple model\n",
        "ade_simple = ADE(val_future, predicted_val_future)\n",
        "fde_simple = FDE(val_future[:, -1, :], predicted_val_future[:, -1, :])\n",
        "print(f\"LSTM 1 - Average Displacement Error (ADE): {ade_simple:.4f}\")\n",
        "print(f\"LSTM 1 - Final Displacement Error (FDE): {fde_simple:.4f}\")"
      ]
    },
    {
      "cell_type": "markdown",
      "metadata": {
        "id": "P1f4RHCS7X6u"
      },
      "source": [
        "The values of ADE and FDE are low, indicating a good prediction."
      ]
    },
    {
      "cell_type": "markdown",
      "metadata": {
        "id": "82k_qsIMqrcv"
      },
      "source": [
        "**Display Sampled Trajectories**"
      ]
    },
    {
      "cell_type": "code",
      "execution_count": null,
      "metadata": {
        "id": "krnURixroaMH"
      },
      "outputs": [],
      "source": [
        "# Display sampled trajectories using function from above\n",
        "display_sampled_trajectories(val_observed, val_future, predicted_val_future)"
      ]
    },
    {
      "cell_type": "markdown",
      "metadata": {
        "id": "z-v4YHQhyr9d"
      },
      "source": [
        "## 4. Second LSTM Model\n",
        "Implementation of the second LSTM model that follows encoder-decoder network architecture.\n",
        "\n",
        "Encoder-Decoder LSTM: The second LSTM model follows the encoder-decoder architecture. This architecture is common for sequence-to-sequence prediction tasks. In the context of our task, the encoder LSTM will process the observed part of the trajectories and the decoder will produce the entire future trajectory sequence in one go (or step-by-step). This architecture is particularly useful when there's a need to capture the context of the entire input sequence before producing any part of the output sequence."
      ]
    },
    {
      "cell_type": "code",
      "source": [
        "import numpy as np\n",
        "import tensorflow as tf\n",
        "\n",
        "# Encoder\n",
        "encoder_inputs = tf.keras.layers.Input(shape=(None, 2))\n",
        "encoder = tf.keras.layers.LSTM(32, return_state=True)\n",
        "encoder_outputs, forward_h, forward_c = encoder(encoder_inputs)\n",
        "encoder_states = [forward_h, forward_c]\n",
        "\n",
        "# Decoder\n",
        "decoder_inputs = tf.keras.layers.Input(shape=(None, 2))\n",
        "decoder_lstm = tf.keras.layers.LSTM(32, return_sequences=True)\n",
        "decoder_outputs = decoder_lstm(decoder_inputs, initial_state=encoder_states)\n",
        "decoder_dense = tf.keras.layers.Dense(2)\n",
        "decoder_outputs = decoder_dense(decoder_outputs)\n",
        "\n",
        "# Model\n",
        "encoder_decoder_model = tf.keras.Model(inputs=[encoder_inputs, decoder_inputs], outputs=decoder_outputs)\n",
        "\n",
        "# Early stopping callback\n",
        "early_stopping_val_loss = tf.keras.callbacks.EarlyStopping(monitor='val_loss', patience=10, restore_best_weights=True)\n",
        "\n",
        "# Add custom callback to the list\n",
        "callbacks_list=[PrintEvery10Epochs(), early_stopping_val_loss]\n",
        "\n",
        "# Existing model compilation and data\n",
        "encoder_decoder_model.compile(loss=ADE, optimizer=\"adam\")\n",
        "\n",
        "# Training data adaptation for this model structure\n",
        "X_train_decode = np.zeros_like(train_future)\n",
        "X_val_decode = np.zeros_like(val_future)\n",
        "\n",
        "# Train the model with verbose set to 0\n",
        "history = encoder_decoder_model.fit([train_observed, X_train_decode], train_future, epochs=100,\n",
        "                                    validation_data=([val_observed, X_val_decode], val_future),\n",
        "                                    callbacks=callbacks_list, verbose=0)"
      ],
      "metadata": {
        "id": "j5Zy9oUUMEhW"
      },
      "execution_count": null,
      "outputs": []
    },
    {
      "cell_type": "code",
      "execution_count": null,
      "metadata": {
        "id": "YJaHJdQpvBGm"
      },
      "outputs": [],
      "source": [
        "# Show the architecture\n",
        "encoder_decoder_model.summary()"
      ]
    },
    {
      "cell_type": "code",
      "execution_count": null,
      "metadata": {
        "id": "JdTIFvvfpC4s"
      },
      "outputs": [],
      "source": [
        "# Plot learning curves using function from above\n",
        "plot_learning_curves(history)"
      ]
    },
    {
      "cell_type": "markdown",
      "metadata": {
        "id": "YHlU4qUEpks8"
      },
      "source": [
        "Predict remaining steps and plot ADE vs time step"
      ]
    },
    {
      "cell_type": "code",
      "source": [
        "def predict_future_trajectory2(observed, model, future_len):\n",
        "    predicted_future = np.zeros((observed.shape[0], future_len, 2))  # Initialize predicted_future array\n",
        "    current_input = observed  # Initialize the input with the observed data\n",
        "    decoder_input = np.zeros((observed.shape[0], 1, 2))  # Placeholder for the decoder input\n",
        "\n",
        "    for i in range(future_len):\n",
        "        next_step = model.predict([current_input, decoder_input], verbose=0)  # Model prediction for the next step\n",
        "        predicted_future[:, i, :] = np.squeeze(next_step, axis=1)  # Store the prediction\n",
        "\n",
        "        # Prepare the input for the next prediction\n",
        "        current_input = np.concatenate([current_input[:, 1:, :], next_step], axis=1)\n",
        "\n",
        "    return predicted_future\n",
        "\n",
        "# Get the predicted future trajectory for the validation set\n",
        "predicted_val_future2 = predict_future_trajectory2(val_observed, encoder_decoder_model, 8)\n",
        "predicted_val_future2"
      ],
      "metadata": {
        "id": "q5ZIGxK87Hhn"
      },
      "execution_count": null,
      "outputs": []
    },
    {
      "cell_type": "code",
      "source": [
        "# Initialize ADE arrays\n",
        "ade_per_step2 = np.zeros(8)\n",
        "fde_per_step2 = np.zeros(8)\n",
        "num_samples = val_observed.shape[0]\n",
        "\n",
        "for i in range(1, 9):  # For time steps 1 to 8\n",
        "    ade_this_step = ADE(val_future[:, :i, :], predicted_val_future2[:, :i, :])\n",
        "    ade_per_step2[i-1] = ade_this_step.numpy()  # Convert tensor to numpy\n",
        "    fde_this_step = FDE(val_future[:, i-1, :], predicted_val_future2[:, i-1, :])\n",
        "    fde_per_step2[i-1] = fde_this_step.numpy()\n",
        "\n",
        "# Plot the results\n",
        "plt.plot(np.arange(1, 9), ade_per_step, marker='o', linestyle='-', label='LSTM 1 ADE')\n",
        "plt.plot(np.arange(1, 9), fde_per_step, marker='o', linestyle='-', label='LSTM 1 FDE')\n",
        "plt.plot(np.arange(1, 9), ade_per_step2, marker='o', linestyle='-', color='red', label='LSTM 2 ADE')\n",
        "plt.plot(np.arange(1, 9), fde_per_step2, marker='o', linestyle='-', color='red', label='LSTM 2 FDE')\n",
        "plt.xlabel('Time Steps')\n",
        "plt.ylabel('Error')\n",
        "plt.title('Error over Time Steps')\n",
        "plt.legend()\n",
        "plt.show()"
      ],
      "metadata": {
        "id": "eYwDYwXy70ix"
      },
      "execution_count": null,
      "outputs": []
    },
    {
      "cell_type": "code",
      "execution_count": null,
      "metadata": {
        "id": "WyRl4qhIuP-N"
      },
      "outputs": [],
      "source": [
        "# ADE & FDE using the predictions generated by the encoder-decoder model\n",
        "ade_encoder_decoder = ADE(val_future, predicted_val_future2)\n",
        "fde_encoder_decoder = FDE(val_future[:, -1, :], predicted_val_future2[:, -1, :])\n",
        "print(f\"Encoder-Decoder Model - Average Displacement Error (ADE): {ade_encoder_decoder:.4f}\")\n",
        "print(f\"Encoder-Decoder Model - Final Displacement Error (FDE): {fde_encoder_decoder:.4f}\")"
      ]
    },
    {
      "cell_type": "markdown",
      "metadata": {
        "id": "hajipceEuYLK"
      },
      "source": [
        "**Display Sampled Trajectories**"
      ]
    },
    {
      "cell_type": "code",
      "execution_count": null,
      "metadata": {
        "id": "1y3p7LPnpC9m"
      },
      "outputs": [],
      "source": [
        "# Display sampled trajectories using function from above\n",
        "display_sampled_trajectories(val_observed, val_future, predicted_val_future2)"
      ]
    },
    {
      "cell_type": "markdown",
      "metadata": {
        "id": "BGtk0MXn2LzW"
      },
      "source": [
        "## 5. Comparison"
      ]
    },
    {
      "cell_type": "markdown",
      "metadata": {
        "id": "xon6IzbR2PAj"
      },
      "source": [
        "Compare the two LSTM models in terms of their numbers of parameters and performances\n",
        "on the ADE and the FDE."
      ]
    },
    {
      "cell_type": "markdown",
      "metadata": {
        "id": "NaVNJ5Se2T6h"
      },
      "source": [
        "Which one would perform better?\n",
        "\n",
        "It depends on the nature of the data and the specific problem you're tackling. Sometimes, the simplicity of the single-step prediction model might work well enough. However, for complex sequential data where future outputs heavily depend on the entirety of the input sequence, the encoder-decoder might perform better because it's designed to capture and utilize the entire input sequence context.\n",
        "Which one is more complex?\n",
        "\n",
        "The encoder-decoder LSTM is generally more complex than the single-step LSTM. This is because the encoder-decoder consists of two main parts: the encoder, which processes the input sequence and captures its context, and the decoder, which uses this context to produce the output sequence. The flow of information and the structure in the encoder-decoder LSTM make it more intricate than the single-step LSTM which just repeatedly uses the same LSTM structure to predict one step at a time."
      ]
    },
    {
      "cell_type": "code",
      "execution_count": null,
      "metadata": {
        "id": "xhhJkwpMbirz"
      },
      "outputs": [],
      "source": []
    },
    {
      "cell_type": "code",
      "execution_count": null,
      "metadata": {
        "id": "nsJsqNhwbiya"
      },
      "outputs": [],
      "source": []
    },
    {
      "cell_type": "markdown",
      "metadata": {
        "id": "eiqrhPEU2UFX"
      },
      "source": [
        "Change the lengths of the observed and future parts to 10/10, 8/12, and 6/142\n",
        "and compare\n",
        "how much the performances of both models drop with fewer observed timesteps and more\n",
        "future timesteps.\n",
        "Note that you should not need to change the architectures of the two LSTM networks, but\n",
        "you would need to recompile and retrain the second LSTM model. You can put the code in a\n",
        "function so that it can be reused for different split ratios of the trajectories."
      ]
    },
    {
      "cell_type": "code",
      "source": [
        "# import numpy as np\n",
        "# import tensorflow as tf\n",
        "# from tensorflow.keras.models import Sequential\n",
        "# from tensorflow.keras.layers import LSTM, Dense, Input, Bidirectional, Concatenate\n",
        "# import matplotlib.pyplot as plt\n",
        "\n",
        "# def train_and_evaluate(encoder_decoder_model, simple_model, observed_len, future_len):\n",
        "#     # Split the trajectories based on the new lengths\n",
        "#     train_observed, train_future = split_trajectories(train_set, observed_len, future_len)\n",
        "#     val_observed, val_future = split_trajectories(val_set, observed_len, future_len)\n",
        "\n",
        "#     # Compile and train the second LSTM model (encoder-decoder model)\n",
        "#     encoder_decoder_model.compile(loss=ADE, optimizer=\"adam\")\n",
        "\n",
        "#     # Placeholder for decoder inputs\n",
        "#     X_train_decode = np.zeros_like(train_future)\n",
        "#     X_val_decode = np.zeros_like(val_future)\n",
        "\n",
        "#     # Training the encoder-decoder model\n",
        "#     history = encoder_decoder_model.fit([train_observed, X_train_decode], train_future, epochs=100,\n",
        "#                         validation_data=([val_observed, X_val_decode], val_future),\n",
        "#                         callbacks=callbacks_list, verbose=0)\n",
        "\n",
        "\n",
        "#     # Initialize ADE arrays\n",
        "#     ade_per_step_simple = np.zeros(future_len)\n",
        "#     ade_per_step_encoder_decoder = np.zeros(future_len)\n",
        "#     num_samples = val_observed.shape[0]\n",
        "\n",
        "#     # Calculate ADE for the simple model\n",
        "#     predicted_val_future_simple = predict_and_calculate_ade(val_observed, val_future, simple_model, ade_per_step_simple, future_len)\n",
        "#     ade_per_step_simple /= num_samples\n",
        "\n",
        "\n",
        "#     # Calculate ADE for encoder-decoder model\n",
        "#     predicted_val_future_encoder_decoder = predict_and_calculate_ade(val_observed, val_future, encoder_decoder_model, ade_per_step_encoder_decoder, future_len, is_encoder_decoder=True)\n",
        "#     ade_per_step_encoder_decoder /= num_samples\n",
        "\n",
        "#     # Display sampled trajectories for the simple model\n",
        "#     display_sampled_trajectories(val_observed, val_future, predicted_val_future_simple,\n",
        "#                                  title=f\"Simple Model with {observed_len}/{future_len} split\", seed=42)\n",
        "\n",
        "#     # Display sampled trajectories for the encoder-decoder model\n",
        "#     display_sampled_trajectories(val_observed, val_future, predicted_val_future_encoder_decoder,\n",
        "#                                  title=f\"Encoder-Decoder Model with {observed_len}/{future_len} split\", seed=42)\n",
        "\n",
        "\n",
        "#     # Plot ADE\n",
        "#     plt.figure()\n",
        "#     plt.plot(range(1, future_len + 1), ade_per_step_simple, label=f'ADE Simple Model with {observed_len}/{future_len} split')\n",
        "#     plt.plot(range(1, future_len + 1), ade_per_step_encoder_decoder, label=f'ADE Encoder-Decoder Model with {observed_len}/{future_len} split', linestyle='--')\n",
        "#     plt.xlabel('Time step')\n",
        "#     plt.ylabel('ADE')\n",
        "#     plt.legend()\n",
        "#     plt.title('ADE vs Time Step')\n",
        "#     plt.show()"
      ],
      "metadata": {
        "id": "Y2rytSoPFB80"
      },
      "execution_count": null,
      "outputs": []
    },
    {
      "cell_type": "code",
      "source": [
        "# # different observed/future lengths\n",
        "# train_and_evaluate(encoder_decoder_model, simple_model, 10, 10)\n",
        "# train_and_evaluate(encoder_decoder_model, simple_model, 8, 12)\n",
        "# train_and_evaluate(encoder_decoder_model, simple_model, 6, 14)"
      ],
      "metadata": {
        "id": "jCAkCs-dQojv"
      },
      "execution_count": null,
      "outputs": []
    },
    {
      "cell_type": "markdown",
      "source": [
        "V2"
      ],
      "metadata": {
        "id": "6pwLefacCycP"
      }
    },
    {
      "cell_type": "code",
      "source": [
        "def train_evaluate_model(observed_len, future_len):\n",
        "\n",
        "    # Split the trajectories based on the new lengths\n",
        "    train_observed, train_future = split_trajectories(train_set, observed_len, future_len)\n",
        "    val_observed, val_future = split_trajectories(val_set, observed_len, future_len)\n",
        "\n",
        "    # LSTM 1\n",
        "    predicted_val_future = predict_future_trajectory(val_observed, simple_model, future_len)\n",
        "\n",
        "    # LSTM 2: Train and evaluate Encoder-Decoder Model\n",
        "    encoder_decoder_model.compile(loss=ADE, optimizer=\"adam\")\n",
        "    X_train_decode = np.zeros_like(train_future)\n",
        "    X_val_decode = np.zeros_like(val_future)\n",
        "    history = encoder_decoder_model.fit([train_observed, X_train_decode], train_future, epochs=100,\n",
        "                                    validation_data=([val_observed, X_val_decode], val_future),\n",
        "                                    callbacks=early_stopping_val_loss, verbose=0)\n",
        "\n",
        "    predicted_val_future2 = predict_future_trajectory2(val_observed, encoder_decoder_model, future_len)\n",
        "\n",
        "    return predicted_val_future, predicted_val_future2"
      ],
      "metadata": {
        "id": "EFYfRHSaC21q"
      },
      "execution_count": null,
      "outputs": []
    },
    {
      "cell_type": "code",
      "source": [
        "def calculate_and_plot_ade(val_future, predicted_val_future, predicted_val_future2, ax):\n",
        "    # Ensure future_len is consistent with the shapes of predicted arrays\n",
        "    future_len = min(val_future.shape[1], predicted_val_future.shape[1], predicted_val_future2.shape[1])\n",
        "\n",
        "    # Initialize ADE arrays for LSTM 1\n",
        "    ade_per_step = np.zeros(future_len)\n",
        "    fde_per_step = np.zeros(future_len)\n",
        "    for i in range(1, future_len + 1):\n",
        "        ade_this_step = ADE(val_future[:, :i, :], predicted_val_future[:, :i, :])\n",
        "        ade_per_step[i-1] = ade_this_step.numpy()\n",
        "        fde_this_step = FDE(val_future[:, i-1, :], predicted_val_future[:, i-1, :])\n",
        "        fde_per_step[i-1] = fde_this_step.numpy()\n",
        "\n",
        "    # Initialize ADE and FDE arrays for LSTM 2 (Encoder-Decoder)\n",
        "    ade_per_step2 = np.zeros(future_len)\n",
        "    fde_per_step2 = np.zeros(future_len)\n",
        "    for i in range(1, future_len + 1):\n",
        "        ade_this_step = ADE(val_future[:, :i, :], predicted_val_future2[:, :i, :])\n",
        "        ade_per_step2[i-1] = ade_this_step.numpy()\n",
        "        fde_this_step = FDE(val_future[:, i-1, :], predicted_val_future2[:, i-1, :])\n",
        "        fde_per_step2[i-1] = fde_this_step.numpy()\n",
        "\n",
        "    # Plotting\n",
        "    ax.plot(np.arange(1, future_len + 1), ade_per_step, marker='o', linestyle='-', color='red', label='LSTM 1 ADE')\n",
        "    ax.plot(np.arange(1, future_len + 1), fde_per_step, marker='o', linestyle='--', color='red', label='LSTM 1 FDE')\n",
        "    ax.plot(np.arange(1, future_len + 1), ade_per_step2, marker='o', linestyle='-', color='blue', label='LSTM 2 ADE')\n",
        "    ax.plot(np.arange(1, future_len + 1), fde_per_step2, marker='o', linestyle='--', color='blue', label='LSTM 2 FDE')\n",
        "    ax.set_xlabel('Time Steps')\n",
        "    ax.set_ylabel('Error')\n",
        "    ax.set_title(f'ADE & FDE over Time Steps for future_len={future_len}')\n",
        "    ax.legend()"
      ],
      "metadata": {
        "id": "xqVxji_0GecT"
      },
      "execution_count": null,
      "outputs": []
    },
    {
      "cell_type": "code",
      "source": [
        "# Create a figure and a grid of subplots\n",
        "fig, axs = plt.subplots(1, 3, figsize=(12, 4))\n",
        "\n",
        "# Different observed and future lengths\n",
        "lengths = [(10, 10), (8, 12), (6, 14)]\n",
        "\n",
        "for idx, (observed_len, future_len) in enumerate(lengths):\n",
        "    predicted_val_future, predicted_val_future2 = train_evaluate_model(observed_len, future_len)\n",
        "    val_observed, val_future = split_trajectories(val_set, observed_len, future_len)\n",
        "    calculate_and_plot_ade(val_future, predicted_val_future, predicted_val_future2, axs[idx])\n",
        "\n",
        "plt.tight_layout()\n",
        "plt.show()"
      ],
      "metadata": {
        "id": "HBziZQ77GyNh"
      },
      "execution_count": null,
      "outputs": []
    },
    {
      "cell_type": "markdown",
      "metadata": {
        "id": "6bnksMsCEwpX"
      },
      "source": [
        "## Trajectory generation\n",
        "\n",
        "Implement a variational autoencoder (VAE) that can generate trajectories of 20 frames long. Here,\n",
        "you don’t need to split the trajectories into observed and future parts. Use the training set to\n",
        "train your VAE model and the validation set for validation. You loss function should include the\n",
        "reconstruction loss (LADE in Equation (1)) and the latent loss. Show the architecture of your VAE\n",
        "network. You can try training the network for 100 epochs with early stopping or try other settings.\n",
        "Show the learning curves plot.\n",
        "Illustrate 30 generated trajectories from your model in subplots. Comment on the quality of the\n",
        "generated trajectories."
      ]
    },
    {
      "cell_type": "code",
      "source": [
        "# Define a customized sampling layer\n",
        "class Sampling(tf.keras.layers.Layer):\n",
        "    def call(self, inputs):\n",
        "        z_mean, z_log_var = inputs\n",
        "        batch = tf.shape(z_mean)[0]\n",
        "        dim = tf.shape(z_mean)[1]\n",
        "        epsilon = tf.keras.backend.random_normal(shape=(batch, dim))\n",
        "        return z_mean + tf.exp(0.5 * z_log_var) * epsilon\n",
        "\n",
        "# The encoder part of the VAE\n",
        "encoder_inputs = tf.keras.layers.Input(shape=(20, 2))\n",
        "x = tf.keras.layers.LSTM(64, return_sequences=True)(encoder_inputs)\n",
        "x = tf.keras.layers.LSTM(32)(x)\n",
        "z_mean = tf.keras.layers.Dense(16)(x)\n",
        "z_log_var = tf.keras.layers.Dense(16)(x)\n",
        "z = Sampling()([z_mean, z_log_var])\n",
        "variational_encoder = tf.keras.Model(inputs=[encoder_inputs], outputs=[z_mean, z_log_var, z])\n",
        "\n",
        "# The decoder part of the VAE\n",
        "decoder_inputs = tf.keras.layers.Input(shape=(16))  # 16 is the size of the latent space\n",
        "x_decoded = tf.keras.layers.Dense(32, activation='relu')(decoder_inputs)\n",
        "x_decoded = tf.keras.layers.RepeatVector(20)(x_decoded)\n",
        "x_decoded = tf.keras.layers.LSTM(32, return_sequences=True)(x_decoded)\n",
        "x_decoded = tf.keras.layers.LSTM(64, return_sequences=True)(x_decoded)\n",
        "x_decoded_mean = tf.keras.layers.TimeDistributed(tf.keras.layers.Dense(2))(x_decoded)\n",
        "\n",
        "# Now join the encoder and decoder together to form our VAE\n",
        "_, _, codings = variational_encoder(encoder_inputs)\n",
        "reconstructions = tf.keras.Model(decoder_inputs, x_decoded_mean)(codings)\n",
        "variational_ae = tf.keras.Model(inputs=[encoder_inputs], outputs=[reconstructions])\n",
        "\n",
        "# Create the standalone decoder model immediately after defining the full VAE\n",
        "decoder_model = tf.keras.Model(inputs=decoder_inputs, outputs=x_decoded_mean)\n",
        "\n",
        "# Add the latent loss\n",
        "latent_loss = -0.5 * tf.reduce_sum(1 + z_log_var - tf.exp(z_log_var) - tf.square(z_mean), axis=-1)\n",
        "latent_loss = tf.reduce_mean(latent_loss) / 40  # 20 * 2 = 40, considering both time steps and features\n",
        "variational_ae.add_loss(latent_loss)\n",
        "\n",
        "# Early stopping\n",
        "early_stopping_val_loss = tf.keras.callbacks.EarlyStopping(monitor='val_loss', patience=10, restore_best_weights=True)\n",
        "\n",
        "# Add custom callback to the list\n",
        "callbacks_list=[PrintEvery10Epochs(), early_stopping_val_loss]\n",
        "\n",
        "# Compile and train the VAE\n",
        "variational_ae.compile(optimizer='adam', loss=ADE)\n",
        "\n",
        "# Train the model\n",
        "vae_history = variational_ae.fit(train_set, train_set, epochs=100, batch_size=32, validation_data=(val_set, val_set), callbacks=callbacks_list, verbose=0)\n",
        "\n",
        "# Plot training and validation loss\n",
        "plt.plot(vae_history.history['loss'], label='Training Loss')\n",
        "plt.plot(vae_history.history['val_loss'], label='Validation Loss')\n",
        "plt.xlabel('Epochs')\n",
        "plt.ylabel('Loss')\n",
        "plt.legend()\n",
        "plt.show()"
      ],
      "metadata": {
        "id": "acXddk3qh5-p"
      },
      "execution_count": null,
      "outputs": []
    },
    {
      "cell_type": "code",
      "source": [
        "# Model architecture\n",
        "variational_ae.summary()"
      ],
      "metadata": {
        "id": "rbiY6CkSOOwq"
      },
      "execution_count": null,
      "outputs": []
    },
    {
      "cell_type": "code",
      "source": [
        "# Generate new trajectories\n",
        "n_samples = 30\n",
        "random_latent_vectors = np.random.normal(size=(n_samples, 16))\n",
        "generated_data = decoder_model.predict(random_latent_vectors)\n",
        "\n",
        "# Display\n",
        "display_sampled_trajectories(generated_data, generated_data, connect=False)"
      ],
      "metadata": {
        "id": "sCwPGShIPygI"
      },
      "execution_count": null,
      "outputs": []
    },
    {
      "cell_type": "markdown",
      "source": [
        "- Show the original trajectories."
      ],
      "metadata": {
        "id": "gBV_C8jZCAR4"
      }
    },
    {
      "cell_type": "code",
      "source": [],
      "metadata": {
        "id": "Rn_zWza60-gP"
      },
      "execution_count": null,
      "outputs": []
    }
  ],
  "metadata": {
    "accelerator": "GPU",
    "colab": {
      "provenance": [],
      "gpuType": "V100",
      "mount_file_id": "1ditnffjy6ckzeuqS0zog7miQdZj_Qghy",
      "authorship_tag": "ABX9TyPTdPLqQ+lp5XT504WbhBaJ",
      "include_colab_link": true
    },
    "kernelspec": {
      "display_name": "Python 3",
      "name": "python3"
    },
    "language_info": {
      "name": "python"
    }
  },
  "nbformat": 4,
  "nbformat_minor": 0
}